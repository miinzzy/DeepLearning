{
  "nbformat": 4,
  "nbformat_minor": 0,
  "metadata": {
    "colab": {
      "provenance": []
    },
    "kernelspec": {
      "name": "python3",
      "display_name": "Python 3"
    },
    "language_info": {
      "name": "python"
    }
  },
  "cells": [
    {
      "cell_type": "markdown",
      "source": [
        "# **딥러닝을 위한 미분 구현하기**"
      ],
      "metadata": {
        "id": "oMbQHCENCPwA"
      }
    },
    {
      "cell_type": "markdown",
      "source": [
        "## 1. Simple한 미분 계산기를 구현해보자\n",
        "- 입력변수가 한개인 함수에 대해 미분값을 자동으로 구하는 프로그램\n",
        "- f(x)의 Input : float 숫자 x\n",
        "- 조건 : f(x)는 x의 제곱을 리턴하는 함수\n",
        "- 미분함수의 Input : f(x), x 값\n",
        "- 미분함수의 Output : 함수 f(x)에 대한 미분 결과"
      ],
      "metadata": {
        "id": "iVQvJhmbCTGm"
      }
    },
    {
      "cell_type": "code",
      "source": [
        "def func1(x):\n",
        "    return x**2"
      ],
      "metadata": {
        "id": "4OQjB59VCmdt"
      },
      "execution_count": 1,
      "outputs": []
    },
    {
      "cell_type": "code",
      "source": [
        "def simple_diff(f, x):  # where the f is function of Python and x is float-type variable\n",
        "    result_diff = 0\n",
        "    h = 10e-5\n",
        "    dff = (f(x+h) - f(x-h)) / (2*h)\n",
        "    result_diff = dff\n",
        "\n",
        "    return result_diff\n"
      ],
      "metadata": {
        "id": "6P5SCQZICwmV"
      },
      "execution_count": 2,
      "outputs": []
    },
    {
      "cell_type": "code",
      "source": [
        "x = 3\n",
        "f = func1"
      ],
      "metadata": {
        "id": "ynr_EPzGEEod"
      },
      "execution_count": 3,
      "outputs": []
    },
    {
      "cell_type": "code",
      "source": [
        "f"
      ],
      "metadata": {
        "colab": {
          "base_uri": "https://localhost:8080/"
        },
        "id": "3ypMtjXmEPSM",
        "outputId": "5f325c66-8dac-4c09-fe3a-6a89c78afeaa"
      },
      "execution_count": 4,
      "outputs": [
        {
          "output_type": "execute_result",
          "data": {
            "text/plain": [
              "<function __main__.func1(x)>"
            ]
          },
          "metadata": {},
          "execution_count": 4
        }
      ]
    },
    {
      "cell_type": "code",
      "source": [
        "simple_diff(f,x)"
      ],
      "metadata": {
        "colab": {
          "base_uri": "https://localhost:8080/"
        },
        "id": "SuPROIkPES4l",
        "outputId": "f021fbee-235d-4e88-b58d-521247a6a585"
      },
      "execution_count": 5,
      "outputs": [
        {
          "output_type": "execute_result",
          "data": {
            "text/plain": [
              "6.000000000012662"
            ]
          },
          "metadata": {},
          "execution_count": 5
        }
      ]
    },
    {
      "cell_type": "markdown",
      "source": [
        "## 2. Gradient 계산기 구현하기\n",
        "- 입력변수가 한개 이상인 함수에 대해 미분값을 자동으로 구하는 프로그램\n",
        "- 미분함수 input: f(x,y,z~)\n",
        "- 미분함수 output: f(x,y,z~)의 대한 미분결과 벡터\n",
        "- f(x) : 2x + 3xy + y^3을 리턴하는 함수"
      ],
      "metadata": {
        "id": "-tfAwbqTE66V"
      }
    },
    {
      "cell_type": "code",
      "source": [
        "def func2(x,y):\n",
        "    return 2*x + 3*x*y + y**3"
      ],
      "metadata": {
        "id": "A-S3jyDOFalz"
      },
      "execution_count": 6,
      "outputs": []
    },
    {
      "cell_type": "code",
      "source": [
        "def diff(f,x,y):\n",
        "    x_result_diff = 0\n",
        "    y_result_diff = 0\n",
        "    h = 10e-5\n",
        "\n",
        "    x_result_diff = (f(x+h,y) - f(x-h,y)) / (2*h)\n",
        "    y_reuslt_diff = (f(x,y+h) - f(x,y-h)) / (2*h)\n",
        "\n",
        "    return x_result_diff, y_reuslt_diff\n"
      ],
      "metadata": {
        "id": "5uxlm2PffnWh"
      },
      "execution_count": 7,
      "outputs": []
    },
    {
      "cell_type": "code",
      "source": [
        "x = 2\n",
        "y = 3\n",
        "f = func2"
      ],
      "metadata": {
        "id": "D8isTT_YiDxY"
      },
      "execution_count": 8,
      "outputs": []
    },
    {
      "cell_type": "code",
      "source": [
        "diff(f,x,y)"
      ],
      "metadata": {
        "colab": {
          "base_uri": "https://localhost:8080/"
        },
        "id": "G_aWIk8QibSf",
        "outputId": "d0c6334a-cb33-4d53-9451-6b69aa4b11c3"
      },
      "execution_count": 9,
      "outputs": [
        {
          "output_type": "execute_result",
          "data": {
            "text/plain": [
              "(11.00000000000989, 33.000000010048325)"
            ]
          },
          "metadata": {},
          "execution_count": 9
        }
      ]
    },
    {
      "cell_type": "code",
      "source": [
        "def func3(X):\n",
        "    x = X[0]\n",
        "    y = X[1]\n",
        "    return 2*x + 3*x*y + y**3"
      ],
      "metadata": {
        "id": "ufQpsV9Wj4ht"
      },
      "execution_count": 10,
      "outputs": []
    },
    {
      "cell_type": "code",
      "source": [
        "def diff2(f, X):\n",
        "    lst = np.zeros_like(X)\n",
        "    h = 10e-5\n",
        "    for idx in range(len(X)):\n",
        "        value = X[idx]\n",
        "        X[idx] = value + h  # 전방차분\n",
        "        f_a = f(X)\n",
        "\n",
        "        X[idx] = value - h  # 후방차분\n",
        "        f_b = f(X)\n",
        "\n",
        "        lst[idx] = (f_a - f_b) / (2*h)  #중앙차분\n",
        "        X[idx] = value  # 다시 원래 값으로 \n",
        "    \n",
        "    return lst\n"
      ],
      "metadata": {
        "id": "UsWZ67j9kUQP"
      },
      "execution_count": 11,
      "outputs": []
    },
    {
      "cell_type": "code",
      "source": [
        "import numpy as np\n",
        "input_weight = [1.0, 2.0]\n",
        "input_data = np.array(input_weight)"
      ],
      "metadata": {
        "id": "GamWcyfspDWY"
      },
      "execution_count": 12,
      "outputs": []
    },
    {
      "cell_type": "code",
      "source": [
        "f3 = func3\n",
        "diff2(f3, input_data)"
      ],
      "metadata": {
        "colab": {
          "base_uri": "https://localhost:8080/"
        },
        "id": "rtFHLayXpK1D",
        "outputId": "5f797f6f-3e02-42b0-8c02-ab6168ecd2e6"
      },
      "execution_count": 13,
      "outputs": [
        {
          "output_type": "execute_result",
          "data": {
            "text/plain": [
              "array([ 8.        , 15.00000001])"
            ]
          },
          "metadata": {},
          "execution_count": 13
        }
      ]
    },
    {
      "cell_type": "code",
      "metadata": {
        "id": "x0azJsjqLlB3"
      },
      "source": [
        "matrix = [[1,2,3],[4,5,6]]\n",
        "input_data_mt = np.array(matrix)"
      ],
      "execution_count": 14,
      "outputs": []
    },
    {
      "cell_type": "code",
      "metadata": {
        "colab": {
          "base_uri": "https://localhost:8080/"
        },
        "id": "iWPwyWn5OjGb",
        "outputId": "00a5fc31-2c10-4720-a959-9422c3c02c1f"
      },
      "source": [
        "input_data_mt"
      ],
      "execution_count": 15,
      "outputs": [
        {
          "output_type": "execute_result",
          "data": {
            "text/plain": [
              "array([[1, 2, 3],\n",
              "       [4, 5, 6]])"
            ]
          },
          "metadata": {},
          "execution_count": 15
        }
      ]
    },
    {
      "cell_type": "code",
      "metadata": {
        "colab": {
          "base_uri": "https://localhost:8080/"
        },
        "id": "KNFZhJqROmSk",
        "outputId": "21318136-413a-4f47-e8bf-4be6b47cda44"
      },
      "source": [
        "input_data_mt.size"
      ],
      "execution_count": 16,
      "outputs": [
        {
          "output_type": "execute_result",
          "data": {
            "text/plain": [
              "6"
            ]
          },
          "metadata": {},
          "execution_count": 16
        }
      ]
    }
  ]
}